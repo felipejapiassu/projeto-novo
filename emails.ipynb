{
 "cells": [
  {
   "cell_type": "code",
   "execution_count": 18,
   "metadata": {},
   "outputs": [],
   "source": [
    "import numpy as np\n",
    "import pandas as pd\n",
    "from unidecode import unidecode"
   ]
  },
  {
   "cell_type": "code",
   "execution_count": 19,
   "metadata": {},
   "outputs": [
    {
     "data": {
      "text/html": [
       "<div>\n",
       "<style scoped>\n",
       "    .dataframe tbody tr th:only-of-type {\n",
       "        vertical-align: middle;\n",
       "    }\n",
       "\n",
       "    .dataframe tbody tr th {\n",
       "        vertical-align: top;\n",
       "    }\n",
       "\n",
       "    .dataframe thead th {\n",
       "        text-align: right;\n",
       "    }\n",
       "</style>\n",
       "<table border=\"1\" class=\"dataframe\">\n",
       "  <thead>\n",
       "    <tr style=\"text-align: right;\">\n",
       "      <th></th>\n",
       "    </tr>\n",
       "  </thead>\n",
       "  <tbody>\n",
       "  </tbody>\n",
       "</table>\n",
       "</div>"
      ],
      "text/plain": [
       "Empty DataFrame\n",
       "Columns: []\n",
       "Index: []"
      ]
     },
     "execution_count": 19,
     "metadata": {},
     "output_type": "execute_result"
    }
   ],
   "source": [
    "userdataoriginal = pd.read_excel('userdata.xlsx')\n",
    "chamadosregistro = pd.read_excel('chamados.xlsx')\n",
    "emzimbra = pd.read_excel('emailszimbra.xlsx')\n",
    "userdata = userdataoriginal\n",
    "userdata=userdata.fillna(' ')\n",
    "chamadosregistro.head(2)"
   ]
  },
  {
   "cell_type": "code",
   "execution_count": 20,
   "metadata": {},
   "outputs": [
    {
     "data": {
      "text/html": [
       "<div>\n",
       "<style scoped>\n",
       "    .dataframe tbody tr th:only-of-type {\n",
       "        vertical-align: middle;\n",
       "    }\n",
       "\n",
       "    .dataframe tbody tr th {\n",
       "        vertical-align: top;\n",
       "    }\n",
       "\n",
       "    .dataframe thead th {\n",
       "        text-align: right;\n",
       "    }\n",
       "</style>\n",
       "<table border=\"1\" class=\"dataframe\">\n",
       "  <thead>\n",
       "    <tr style=\"text-align: right;\">\n",
       "      <th></th>\n",
       "      <th>matricula</th>\n",
       "      <th>nome</th>\n",
       "      <th>cargo</th>\n",
       "      <th>funcao</th>\n",
       "      <th>lotacao</th>\n",
       "      <th>situacao</th>\n",
       "    </tr>\n",
       "  </thead>\n",
       "  <tbody>\n",
       "    <tr>\n",
       "      <th>0</th>\n",
       "      <td>98333</td>\n",
       "      <td>ABDORAL MARTINS FILHO</td>\n",
       "      <td>OFICIAL DE JUSTIÇA AVALIADOR</td>\n",
       "      <td></td>\n",
       "      <td>1º GRAU - 1ª INSTÂNCIA - 2ª ENTRÂNCIA - COMARC...</td>\n",
       "      <td>ESTATUTÁRIO</td>\n",
       "    </tr>\n",
       "  </tbody>\n",
       "</table>\n",
       "</div>"
      ],
      "text/plain": [
       "   matricula                   nome                         cargo funcao  \\\n",
       "0      98333  ABDORAL MARTINS FILHO  OFICIAL DE JUSTIÇA AVALIADOR          \n",
       "\n",
       "                                             lotacao     situacao  \n",
       "0  1º GRAU - 1ª INSTÂNCIA - 2ª ENTRÂNCIA - COMARC...  ESTATUTÁRIO  "
      ]
     },
     "execution_count": 20,
     "metadata": {},
     "output_type": "execute_result"
    }
   ],
   "source": [
    "userdata.head(1)"
   ]
  },
  {
   "cell_type": "code",
   "execution_count": 21,
   "metadata": {},
   "outputs": [
    {
     "data": {
      "text/html": [
       "<div>\n",
       "<style scoped>\n",
       "    .dataframe tbody tr th:only-of-type {\n",
       "        vertical-align: middle;\n",
       "    }\n",
       "\n",
       "    .dataframe tbody tr th {\n",
       "        vertical-align: top;\n",
       "    }\n",
       "\n",
       "    .dataframe thead th {\n",
       "        text-align: right;\n",
       "    }\n",
       "</style>\n",
       "<table border=\"1\" class=\"dataframe\">\n",
       "  <thead>\n",
       "    <tr style=\"text-align: right;\">\n",
       "      <th></th>\n",
       "      <th>Email Zimbra</th>\n",
       "      <th>Status</th>\n",
       "      <th>Criação</th>\n",
       "      <th>Último logon</th>\n",
       "      <th>Descrição</th>\n",
       "      <th>Email</th>\n",
       "      <th>Alias1</th>\n",
       "      <th>Alias2</th>\n",
       "      <th>Alias3</th>\n",
       "      <th>Alias4</th>\n",
       "    </tr>\n",
       "  </thead>\n",
       "  <tbody>\n",
       "    <tr>\n",
       "      <th>0</th>\n",
       "      <td>1acamaracivelvideo@tjto.jus.br</td>\n",
       "      <td>active</td>\n",
       "      <td>2020-10-07 00:00:00</td>\n",
       "      <td>20220802163301.</td>\n",
       "      <td>1ª Câmara Cível</td>\n",
       "      <td>1acamaracivelvideo@tjto.jus.br</td>\n",
       "      <td>NaN</td>\n",
       "      <td>NaN</td>\n",
       "      <td>NaN</td>\n",
       "      <td>NaN</td>\n",
       "    </tr>\n",
       "    <tr>\n",
       "      <th>1</th>\n",
       "      <td>1acamaracriminal@tjto.jus.br</td>\n",
       "      <td>active</td>\n",
       "      <td>06/17/20</td>\n",
       "      <td>20220801162946.</td>\n",
       "      <td>1ª Câmara Criminal .</td>\n",
       "      <td>1acamaracriminal@tjto.jus.br</td>\n",
       "      <td>NaN</td>\n",
       "      <td>NaN</td>\n",
       "      <td>NaN</td>\n",
       "      <td>NaN</td>\n",
       "    </tr>\n",
       "  </tbody>\n",
       "</table>\n",
       "</div>"
      ],
      "text/plain": [
       "                     Email Zimbra  Status              Criação  \\\n",
       "0  1acamaracivelvideo@tjto.jus.br  active  2020-10-07 00:00:00   \n",
       "1    1acamaracriminal@tjto.jus.br  active             06/17/20   \n",
       "\n",
       "      Último logon             Descrição                           Email  \\\n",
       "0  20220802163301.       1ª Câmara Cível  1acamaracivelvideo@tjto.jus.br   \n",
       "1  20220801162946.  1ª Câmara Criminal .    1acamaracriminal@tjto.jus.br   \n",
       "\n",
       "  Alias1 Alias2 Alias3 Alias4  \n",
       "0    NaN    NaN    NaN    NaN  \n",
       "1    NaN    NaN    NaN    NaN  "
      ]
     },
     "execution_count": 21,
     "metadata": {},
     "output_type": "execute_result"
    }
   ],
   "source": [
    "emzimbra.head(2)"
   ]
  },
  {
   "cell_type": "code",
   "execution_count": 22,
   "metadata": {},
   "outputs": [
    {
     "data": {
      "text/html": [
       "<div>\n",
       "<style scoped>\n",
       "    .dataframe tbody tr th:only-of-type {\n",
       "        vertical-align: middle;\n",
       "    }\n",
       "\n",
       "    .dataframe tbody tr th {\n",
       "        vertical-align: top;\n",
       "    }\n",
       "\n",
       "    .dataframe thead th {\n",
       "        text-align: right;\n",
       "    }\n",
       "</style>\n",
       "<table border=\"1\" class=\"dataframe\">\n",
       "  <thead>\n",
       "    <tr style=\"text-align: right;\">\n",
       "      <th></th>\n",
       "      <th>Email Zimbra</th>\n",
       "      <th>Status</th>\n",
       "      <th>Criação</th>\n",
       "      <th>Último logon</th>\n",
       "      <th>Descrição</th>\n",
       "      <th>Email</th>\n",
       "      <th>Alias1</th>\n",
       "      <th>Alias2</th>\n",
       "      <th>Alias3</th>\n",
       "      <th>Alias4</th>\n",
       "    </tr>\n",
       "  </thead>\n",
       "  <tbody>\n",
       "    <tr>\n",
       "      <th>0</th>\n",
       "      <td>1acamaracivelvideo@tjto.jus.br</td>\n",
       "      <td>active</td>\n",
       "      <td>2020-10-07 00:00:00</td>\n",
       "      <td>20220802163301.</td>\n",
       "      <td>1a camara civel</td>\n",
       "      <td>1acamaracivelvideo@tjto.jus.br</td>\n",
       "      <td>NaN</td>\n",
       "      <td>NaN</td>\n",
       "      <td>NaN</td>\n",
       "      <td>NaN</td>\n",
       "    </tr>\n",
       "    <tr>\n",
       "      <th>1</th>\n",
       "      <td>1acamaracriminal@tjto.jus.br</td>\n",
       "      <td>active</td>\n",
       "      <td>06/17/20</td>\n",
       "      <td>20220801162946.</td>\n",
       "      <td>1a camara criminal .</td>\n",
       "      <td>1acamaracriminal@tjto.jus.br</td>\n",
       "      <td>NaN</td>\n",
       "      <td>NaN</td>\n",
       "      <td>NaN</td>\n",
       "      <td>NaN</td>\n",
       "    </tr>\n",
       "    <tr>\n",
       "      <th>2</th>\n",
       "      <td>1camaracriminal@tjto.jus.br</td>\n",
       "      <td>active</td>\n",
       "      <td>04/28/20</td>\n",
       "      <td>20220721182848.</td>\n",
       "      <td>1a camara criminal</td>\n",
       "      <td>1camaracriminal@tjto.jus.br</td>\n",
       "      <td>NaN</td>\n",
       "      <td>NaN</td>\n",
       "      <td>NaN</td>\n",
       "      <td>NaN</td>\n",
       "    </tr>\n",
       "    <tr>\n",
       "      <th>3</th>\n",
       "      <td>1juizadoespecial@tjto.jus.br</td>\n",
       "      <td>active</td>\n",
       "      <td>2018-08-03 00:00:00</td>\n",
       "      <td>20220525191224.</td>\n",
       "      <td>1o juizado especial de palmas</td>\n",
       "      <td>1juizadoespecial@tjto.jus.br</td>\n",
       "      <td>jecivpalmas@tjto.jus.br</td>\n",
       "      <td>NaN</td>\n",
       "      <td>NaN</td>\n",
       "      <td>NaN</td>\n",
       "    </tr>\n",
       "    <tr>\n",
       "      <th>4</th>\n",
       "      <td>1juizadofazendapalmas@tjto.jus.br</td>\n",
       "      <td>active</td>\n",
       "      <td>03/22/21</td>\n",
       "      <td>never</td>\n",
       "      <td>juizado da fazenda de palmas</td>\n",
       "      <td>1juizadofazendapalmas@tjto.jus.br</td>\n",
       "      <td>NaN</td>\n",
       "      <td>NaN</td>\n",
       "      <td>NaN</td>\n",
       "      <td>NaN</td>\n",
       "    </tr>\n",
       "  </tbody>\n",
       "</table>\n",
       "</div>"
      ],
      "text/plain": [
       "                        Email Zimbra  Status              Criação  \\\n",
       "0     1acamaracivelvideo@tjto.jus.br  active  2020-10-07 00:00:00   \n",
       "1       1acamaracriminal@tjto.jus.br  active             06/17/20   \n",
       "2        1camaracriminal@tjto.jus.br  active             04/28/20   \n",
       "3       1juizadoespecial@tjto.jus.br  active  2018-08-03 00:00:00   \n",
       "4  1juizadofazendapalmas@tjto.jus.br  active             03/22/21   \n",
       "\n",
       "      Último logon                      Descrição  \\\n",
       "0  20220802163301.                1a camara civel   \n",
       "1  20220801162946.           1a camara criminal .   \n",
       "2  20220721182848.             1a camara criminal   \n",
       "3  20220525191224.  1o juizado especial de palmas   \n",
       "4            never   juizado da fazenda de palmas   \n",
       "\n",
       "                               Email                   Alias1 Alias2 Alias3  \\\n",
       "0     1acamaracivelvideo@tjto.jus.br                      NaN    NaN    NaN   \n",
       "1       1acamaracriminal@tjto.jus.br                      NaN    NaN    NaN   \n",
       "2        1camaracriminal@tjto.jus.br                      NaN    NaN    NaN   \n",
       "3       1juizadoespecial@tjto.jus.br  jecivpalmas@tjto.jus.br    NaN    NaN   \n",
       "4  1juizadofazendapalmas@tjto.jus.br                      NaN    NaN    NaN   \n",
       "\n",
       "  Alias4  \n",
       "0    NaN  \n",
       "1    NaN  \n",
       "2    NaN  \n",
       "3    NaN  \n",
       "4    NaN  "
      ]
     },
     "execution_count": 22,
     "metadata": {},
     "output_type": "execute_result"
    }
   ],
   "source": [
    "desc = emzimbra['Descrição']\n",
    "formateddesc = desc\n",
    "for i in range(len(desc)):\n",
    "    if type(desc[i])==str:\n",
    "        formateddesc[i]  =  unidecode(desc[i])\n",
    "        formateddesc[i] = formateddesc[i].lower()\n",
    "        emzimbra['Descrição'][i] = formateddesc[i]\n",
    "emzimbra.head()"
   ]
  },
  {
   "cell_type": "code",
   "execution_count": 23,
   "metadata": {},
   "outputs": [],
   "source": [
    "ncham = 'R54233'\n",
    "migrar = 'Não'\n",
    "descham = 'Criação de email'\n",
    "matricula = 360735\n",
    "efetivado = 'Não'\n",
    "observacoes = ' '"
   ]
  },
  {
   "cell_type": "code",
   "execution_count": 24,
   "metadata": {},
   "outputs": [
    {
     "data": {
      "text/html": [
       "<div>\n",
       "<style scoped>\n",
       "    .dataframe tbody tr th:only-of-type {\n",
       "        vertical-align: middle;\n",
       "    }\n",
       "\n",
       "    .dataframe tbody tr th {\n",
       "        vertical-align: top;\n",
       "    }\n",
       "\n",
       "    .dataframe thead th {\n",
       "        text-align: right;\n",
       "    }\n",
       "</style>\n",
       "<table border=\"1\" class=\"dataframe\">\n",
       "  <thead>\n",
       "    <tr style=\"text-align: right;\">\n",
       "      <th></th>\n",
       "      <th>matricula</th>\n",
       "      <th>nome</th>\n",
       "      <th>cargo</th>\n",
       "      <th>funcao</th>\n",
       "      <th>lotacao</th>\n",
       "      <th>situacao</th>\n",
       "    </tr>\n",
       "  </thead>\n",
       "  <tbody>\n",
       "    <tr>\n",
       "      <th>0</th>\n",
       "      <td>360735</td>\n",
       "      <td>IGOR VASCONCELOS BARBOSA DE MENDONCA</td>\n",
       "      <td></td>\n",
       "      <td>ASSISTENTE DE GABINETE DE DESEMBARGADOR  DAJ/4</td>\n",
       "      <td>2º GRAU - GABINETE DOS DESEMBARGADORES - GABIN...</td>\n",
       "      <td>NOMEADO EM COMISSÃO</td>\n",
       "    </tr>\n",
       "  </tbody>\n",
       "</table>\n",
       "</div>"
      ],
      "text/plain": [
       "   matricula                                  nome cargo  \\\n",
       "0     360735  IGOR VASCONCELOS BARBOSA DE MENDONCA         \n",
       "\n",
       "                                           funcao  \\\n",
       "0  ASSISTENTE DE GABINETE DE DESEMBARGADOR  DAJ/4   \n",
       "\n",
       "                                             lotacao             situacao  \n",
       "0  2º GRAU - GABINETE DOS DESEMBARGADORES - GABIN...  NOMEADO EM COMISSÃO  "
      ]
     },
     "execution_count": 24,
     "metadata": {},
     "output_type": "execute_result"
    }
   ],
   "source": [
    "\n",
    "res = userdata[userdata['matricula']==matricula]\n",
    "res = res.reset_index()\n",
    "res = res.drop(['index'],axis=1)\n",
    "res\n"
   ]
  },
  {
   "cell_type": "code",
   "execution_count": 25,
   "metadata": {},
   "outputs": [
    {
     "data": {
      "text/plain": [
       "'VASCONCELOS BARBOSA DE MENDONCA'"
      ]
     },
     "execution_count": 25,
     "metadata": {},
     "output_type": "execute_result"
    }
   ],
   "source": [
    "nome = res['nome'][0]\n",
    "nome = nome.split()\n",
    "sobrenome = nome[1:]\n",
    "sobrenome =  ' '.join(nome[1:])\n",
    "sobrenome"
   ]
  },
  {
   "cell_type": "code",
   "execution_count": 26,
   "metadata": {},
   "outputs": [
    {
     "data": {
      "text/plain": [
       "'igor.mendonca@tjto,jus.br'"
      ]
     },
     "execution_count": 26,
     "metadata": {},
     "output_type": "execute_result"
    }
   ],
   "source": [
    "empdr = nome[0]+'.'+nome[-1]+'@tjto,jus.br'\n",
    "empdr = empdr.lower()\n",
    "empdr"
   ]
  },
  {
   "cell_type": "code",
   "execution_count": 27,
   "metadata": {},
   "outputs": [
    {
     "data": {
      "text/plain": [
       "' GABINETE DOS DESEMBARGADORES '"
      ]
     },
     "execution_count": 27,
     "metadata": {},
     "output_type": "execute_result"
    }
   ],
   "source": [
    "lotacao = res['lotacao'][0]\n",
    "lotacao = lotacao.split('-')\n",
    "lotacao[-1]\n",
    "lotacao[-2]"
   ]
  },
  {
   "cell_type": "code",
   "execution_count": 28,
   "metadata": {},
   "outputs": [
    {
     "data": {
      "text/plain": [
       "'ASSISTENTE DE GABINETE DE DESEMBARGADOR  DAJ/4'"
      ]
     },
     "execution_count": 28,
     "metadata": {},
     "output_type": "execute_result"
    }
   ],
   "source": [
    "cargo = ' '\n",
    "funcao = ' '\n",
    "if res['cargo'][0]!=' ': cargo =  res['cargo'][0]\n",
    "if res['funcao'][0]!=' ': funcao = res['funcao'][0]\n",
    "if cargo==' ' : \n",
    "    cargo = funcao\n",
    "    funcao = ' '\n",
    "if(cargo!=' ' and funcao!=' '): cargo = cargo+'-'+funcao\n",
    "cargo\n"
   ]
  },
  {
   "cell_type": "code",
   "execution_count": 29,
   "metadata": {},
   "outputs": [
    {
     "data": {
      "text/plain": [
       "Email Zimbra                        igor.mendonca@tjto.jus.br\n",
       "Status                                                 active\n",
       "Criação                                              02/23/21\n",
       "Último logon                                  20220802163938.\n",
       "Descrição       igor vasconcelos barbosa de mendonca - 360735\n",
       "Email                               igor.mendonca@tjto.jus.br\n",
       "Alias1                                                    NaN\n",
       "Alias2                                                    NaN\n",
       "Alias3                                                    NaN\n",
       "Alias4                                                    NaN\n",
       "Name: 1727, dtype: object"
      ]
     },
     "execution_count": 29,
     "metadata": {},
     "output_type": "execute_result"
    }
   ],
   "source": [
    "emzimbrares = ' '\n",
    "desc = emzimbra['Descrição']\n",
    "for i in range(len(desc)):\n",
    "    if type(desc[i])==str:\n",
    "        if res['nome'][0].lower() in desc[i].lower():\n",
    "            emzimbrares = emzimbra.iloc[i]\n",
    "emzimbrares"
   ]
  },
  {
   "cell_type": "code",
   "execution_count": 30,
   "metadata": {},
   "outputs": [
    {
     "data": {
      "text/html": [
       "<div>\n",
       "<style scoped>\n",
       "    .dataframe tbody tr th:only-of-type {\n",
       "        vertical-align: middle;\n",
       "    }\n",
       "\n",
       "    .dataframe tbody tr th {\n",
       "        vertical-align: top;\n",
       "    }\n",
       "\n",
       "    .dataframe thead th {\n",
       "        text-align: right;\n",
       "    }\n",
       "</style>\n",
       "<table border=\"1\" class=\"dataframe\">\n",
       "  <thead>\n",
       "    <tr style=\"text-align: right;\">\n",
       "      <th></th>\n",
       "      <th>Nome Completo</th>\n",
       "      <th>Nome</th>\n",
       "      <th>Sobrenome</th>\n",
       "      <th>UO</th>\n",
       "      <th>Matrícula</th>\n",
       "      <th>Lotação</th>\n",
       "      <th>Cargo</th>\n",
       "      <th>Email zimbra</th>\n",
       "      <th>Email Workspace</th>\n",
       "      <th>Alias Workspace</th>\n",
       "      <th>Migrar?</th>\n",
       "      <th>Descrição do Chamado</th>\n",
       "      <th>Chamado</th>\n",
       "      <th>Efetivado?</th>\n",
       "      <th>Observações</th>\n",
       "    </tr>\n",
       "  </thead>\n",
       "  <tbody>\n",
       "    <tr>\n",
       "      <th>0</th>\n",
       "      <td>IGOR VASCONCELOS BARBOSA DE MENDONCA</td>\n",
       "      <td>IGOR</td>\n",
       "      <td>VASCONCELOS BARBOSA DE MENDONCA</td>\n",
       "      <td>GABINETE DOS DESEMBARGADORES</td>\n",
       "      <td>360735</td>\n",
       "      <td>GABINETE DES. ETELVINA MARIA SAMPAIO FELIPE</td>\n",
       "      <td>ASSISTENTE DE GABINETE DE DESEMBARGADOR  DAJ/4</td>\n",
       "      <td>igor.mendonca@tjto.jus.br</td>\n",
       "      <td>igor.mendonca@tjto,jus.br</td>\n",
       "      <td>igor.mendonca@tjto.jus.br</td>\n",
       "      <td>Não</td>\n",
       "      <td>Criação de email</td>\n",
       "      <td>R54233</td>\n",
       "      <td>Não</td>\n",
       "      <td></td>\n",
       "    </tr>\n",
       "  </tbody>\n",
       "</table>\n",
       "</div>"
      ],
      "text/plain": [
       "                          Nome Completo  Nome  \\\n",
       "0  IGOR VASCONCELOS BARBOSA DE MENDONCA  IGOR   \n",
       "\n",
       "                         Sobrenome                              UO  Matrícula  \\\n",
       "0  VASCONCELOS BARBOSA DE MENDONCA   GABINETE DOS DESEMBARGADORES      360735   \n",
       "\n",
       "                                        Lotação  \\\n",
       "0   GABINETE DES. ETELVINA MARIA SAMPAIO FELIPE   \n",
       "\n",
       "                                            Cargo               Email zimbra  \\\n",
       "0  ASSISTENTE DE GABINETE DE DESEMBARGADOR  DAJ/4  igor.mendonca@tjto.jus.br   \n",
       "\n",
       "             Email Workspace            Alias Workspace Migrar?  \\\n",
       "0  igor.mendonca@tjto,jus.br  igor.mendonca@tjto.jus.br     Não   \n",
       "\n",
       "  Descrição do Chamado Chamado Efetivado? Observações  \n",
       "0     Criação de email  R54233        Não              "
      ]
     },
     "execution_count": 30,
     "metadata": {},
     "output_type": "execute_result"
    }
   ],
   "source": [
    "ln = {\n",
    "    'Nome Completo':res['nome'],\n",
    "    'Nome':nome[0],\n",
    "    'Sobrenome':sobrenome,\n",
    "    'UO':lotacao[-2],\n",
    "    'Matrícula':res['matricula'],\n",
    "    'Lotação':lotacao[-1],\n",
    "    'Cargo':cargo,\n",
    "    'Email zimbra':emzimbrares[0],\n",
    "    'Email Workspace':empdr,\n",
    "    'Alias Workspace':emzimbrares[0],\n",
    "    'Migrar?':migrar,\n",
    "    'Descrição do Chamado':descham,\n",
    "    'Chamado':ncham,\n",
    "    'Efetivado?':efetivado,\n",
    "    'Observações':observacoes}\n",
    "ln = pd.DataFrame(ln)\n",
    "ln\n"
   ]
  },
  {
   "cell_type": "code",
   "execution_count": 31,
   "metadata": {},
   "outputs": [
    {
     "data": {
      "text/html": [
       "<div>\n",
       "<style scoped>\n",
       "    .dataframe tbody tr th:only-of-type {\n",
       "        vertical-align: middle;\n",
       "    }\n",
       "\n",
       "    .dataframe tbody tr th {\n",
       "        vertical-align: top;\n",
       "    }\n",
       "\n",
       "    .dataframe thead th {\n",
       "        text-align: right;\n",
       "    }\n",
       "</style>\n",
       "<table border=\"1\" class=\"dataframe\">\n",
       "  <thead>\n",
       "    <tr style=\"text-align: right;\">\n",
       "      <th></th>\n",
       "      <th>Nome Completo</th>\n",
       "      <th>Nome</th>\n",
       "      <th>Sobrenome</th>\n",
       "      <th>UO</th>\n",
       "      <th>Matrícula</th>\n",
       "      <th>Lotação</th>\n",
       "      <th>Cargo</th>\n",
       "      <th>Email zimbra</th>\n",
       "      <th>Email Workspace</th>\n",
       "      <th>Alias Workspace</th>\n",
       "      <th>Migrar?</th>\n",
       "      <th>Descrição do Chamado</th>\n",
       "      <th>Chamado</th>\n",
       "      <th>Efetivado?</th>\n",
       "      <th>Observações</th>\n",
       "    </tr>\n",
       "  </thead>\n",
       "  <tbody>\n",
       "    <tr>\n",
       "      <th>0</th>\n",
       "      <td>IGOR VASCONCELOS BARBOSA DE MENDONCA</td>\n",
       "      <td>IGOR</td>\n",
       "      <td>VASCONCELOS BARBOSA DE MENDONCA</td>\n",
       "      <td>GABINETE DOS DESEMBARGADORES</td>\n",
       "      <td>360735</td>\n",
       "      <td>GABINETE DES. ETELVINA MARIA SAMPAIO FELIPE</td>\n",
       "      <td>ASSISTENTE DE GABINETE DE DESEMBARGADOR  DAJ/4</td>\n",
       "      <td>igor.mendonca@tjto.jus.br</td>\n",
       "      <td>igor.mendonca@tjto,jus.br</td>\n",
       "      <td>igor.mendonca@tjto.jus.br</td>\n",
       "      <td>Não</td>\n",
       "      <td>Criação de email</td>\n",
       "      <td>R54233</td>\n",
       "      <td>Não</td>\n",
       "      <td></td>\n",
       "    </tr>\n",
       "  </tbody>\n",
       "</table>\n",
       "</div>"
      ],
      "text/plain": [
       "                          Nome Completo  Nome  \\\n",
       "0  IGOR VASCONCELOS BARBOSA DE MENDONCA  IGOR   \n",
       "\n",
       "                         Sobrenome                              UO  Matrícula  \\\n",
       "0  VASCONCELOS BARBOSA DE MENDONCA   GABINETE DOS DESEMBARGADORES      360735   \n",
       "\n",
       "                                        Lotação  \\\n",
       "0   GABINETE DES. ETELVINA MARIA SAMPAIO FELIPE   \n",
       "\n",
       "                                            Cargo               Email zimbra  \\\n",
       "0  ASSISTENTE DE GABINETE DE DESEMBARGADOR  DAJ/4  igor.mendonca@tjto.jus.br   \n",
       "\n",
       "             Email Workspace            Alias Workspace Migrar?  \\\n",
       "0  igor.mendonca@tjto,jus.br  igor.mendonca@tjto.jus.br     Não   \n",
       "\n",
       "  Descrição do Chamado Chamado Efetivado? Observações  \n",
       "0     Criação de email  R54233        Não              "
      ]
     },
     "execution_count": 31,
     "metadata": {},
     "output_type": "execute_result"
    }
   ],
   "source": [
    "chamadosregistro = pd.concat([chamadosregistro,ln])\n",
    "chamadosregistro.head()"
   ]
  },
  {
   "cell_type": "code",
   "execution_count": 32,
   "metadata": {},
   "outputs": [],
   "source": [
    "chamadosregistro.to_excel('chamados.xlsx',index=False)"
   ]
  },
  {
   "cell_type": "code",
   "execution_count": null,
   "metadata": {},
   "outputs": [],
   "source": []
  }
 ],
 "metadata": {
  "kernelspec": {
   "display_name": "Python 3.10.6 64-bit (windows store)",
   "language": "python",
   "name": "python3"
  },
  "language_info": {
   "codemirror_mode": {
    "name": "ipython",
    "version": 3
   },
   "file_extension": ".py",
   "mimetype": "text/x-python",
   "name": "python",
   "nbconvert_exporter": "python",
   "pygments_lexer": "ipython3",
   "version": "3.10.6"
  },
  "orig_nbformat": 4,
  "vscode": {
   "interpreter": {
    "hash": "24f314ef77c6915a90b0bf34b50750f80dcec14c35c97a9b6f826ffc00fa6793"
   }
  }
 },
 "nbformat": 4,
 "nbformat_minor": 2
}
